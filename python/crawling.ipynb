{
 "cells": [
  {
   "cell_type": "markdown",
   "id": "c79f6137",
   "metadata": {},
   "source": [
    "# Crawling websites"
   ]
  },
  {
   "cell_type": "code",
   "execution_count": 2,
   "id": "8d093638",
   "metadata": {},
   "outputs": [],
   "source": [
    "import requests\n",
    "from bs4 import BeautifulSoup"
   ]
  },
  {
   "cell_type": "code",
   "execution_count": 36,
   "id": "97e54276",
   "metadata": {},
   "outputs": [
    {
     "name": "stdout",
     "output_type": "stream",
     "text": [
      "リニア「国の報告書踏まえ建設的議論を」　JR東海社長\n",
      "\n"
     ]
    }
   ],
   "source": [
    "url = 'https://www.nikkei.com/news/category/'\n",
    "\n",
    "response =requests.get(url)\n",
    "\n",
    "soup = BeautifulSoup(response.text, 'html.parser')\n",
    "\n",
    "headlines = soup.select('#CONTENTS_MAIN .m-miM09:first-child h3 a span')\n",
    "\n",
    "# headlines\n",
    "for headline in headlines:\n",
    "    print(headline.text.strip() + '\\n')"
   ]
  },
  {
   "cell_type": "code",
   "execution_count": null,
   "id": "7b07252d",
   "metadata": {},
   "outputs": [],
   "source": []
  }
 ],
 "metadata": {
  "kernelspec": {
   "display_name": "Python 3 (ipykernel)",
   "language": "python",
   "name": "python3"
  },
  "language_info": {
   "codemirror_mode": {
    "name": "ipython",
    "version": 3
   },
   "file_extension": ".py",
   "mimetype": "text/x-python",
   "name": "python",
   "nbconvert_exporter": "python",
   "pygments_lexer": "ipython3",
   "version": "3.9.13"
  }
 },
 "nbformat": 4,
 "nbformat_minor": 5
}
