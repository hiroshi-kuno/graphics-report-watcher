{
 "cells": [
  {
   "cell_type": "code",
   "execution_count": 46,
   "id": "b361cbd3",
   "metadata": {},
   "outputs": [],
   "source": [
    "import pandas as pd\n",
    "\n",
    "df= pd.read_csv('watchlist/watchlist.csv')\n",
    "\n",
    "# jsonファイルに変換してファイルに保存\n",
    "json_data = df.to_json(orient='records', force_ascii=False)\n",
    "with open (\"watchlist/result.json\", \"w\", encoding=\"utf-8\") as json_file:\n",
    "    json_file.write(json_data)"
   ]
  }
 ],
 "metadata": {
  "kernelspec": {
   "display_name": "Python 3 (ipykernel)",
   "language": "python",
   "name": "python3"
  },
  "language_info": {
   "codemirror_mode": {
    "name": "ipython",
    "version": 3
   },
   "file_extension": ".py",
   "mimetype": "text/x-python",
   "name": "python",
   "nbconvert_exporter": "python",
   "pygments_lexer": "ipython3",
   "version": "3.9.7"
  }
 },
 "nbformat": 4,
 "nbformat_minor": 5
}
