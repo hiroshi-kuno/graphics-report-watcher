{
 "cells": [
  {
   "cell_type": "code",
   "execution_count": 7,
   "id": "123dee57",
   "metadata": {},
   "outputs": [
    {
     "name": "stdout",
     "output_type": "stream",
     "text": [
      "中国恒大の法的整理、判断を24年1月に延期香港高裁\n"
     ]
    }
   ],
   "source": [
    "from selenium import webdriver\n",
    "from selenium.webdriver.common.by import By\n",
    "from selenium.webdriver.support.ui import WebDriverWait\n",
    "from selenium.webdriver.support import expected_conditions as EC\n",
    "\n",
    "driver = webdriver.Chrome()\n",
    "driver.get(\"https://www.nikkei.com/\")\n",
    "\n",
    "try:\n",
    "    # WebDriverWaitを使って最大10秒間待機\n",
    "    element = WebDriverWait(driver, 10).until(\n",
    "        EC.presence_of_element_located((By.CSS_SELECTOR, \"body > div.body_bgvwx9q > div.container_clyllbs > main > div:nth-child(1) > div > div:nth-child(1) > div:nth-child(1) > div > div > article > div.textContainer_t1v5liye.overlayStyleOfTextContainer_o1ezlocp.leftAlignedTextContainer_lgmry3u > h2\"))\n",
    "    )\n",
    "    print(element.text)\n",
    "finally:\n",
    "    driver.quit()"
   ]
  },
  {
   "cell_type": "code",
   "execution_count": 4,
   "id": "ebb6aebb",
   "metadata": {},
   "outputs": [
    {
     "name": "stdout",
     "output_type": "stream",
     "text": [
      "中国恒大の法的整理、判断を24年1月に延期香港高裁\n"
     ]
    }
   ],
   "source": [
    "from selenium import webdriver\n",
    "from selenium.webdriver.common.by import By\n",
    "from selenium.webdriver.support.ui import WebDriverWait\n",
    "from selenium.webdriver.support import expected_conditions as EC\n",
    "\n",
    "# ChromeのWebドライバを起動。システムパスから動かしている\n",
    "driver = webdriver.Chrome()\n",
    "\n",
    "# スクレイピング対象のURLを開く\n",
    "driver.get('https://www.nikkei.com/')\n",
    "\n",
    "# 特定の要素を取得\n",
    "# 　　・driver.find_element(By.CSS_SELECTOR, \".foo\")\n",
    "\n",
    "element = driver.find_element(By.CSS_SELECTOR, 'body > div.body_bgvwx9q > div.container_clyllbs > main > div:nth-child(1) > div > div:nth-child(1) > div:nth-child(1) > div > div > article > div.textContainer_t1v5liye.overlayStyleOfTextContainer_o1ezlocp.leftAlignedTextContainer_lgmry3u > h2')\n",
    "print(element.text)\n",
    "\n",
    "# ブラウザを閉じる\n",
    "driver.quit()"
   ]
  },
  {
   "cell_type": "code",
   "execution_count": 1,
   "id": "a231f0c4",
   "metadata": {},
   "outputs": [
    {
     "name": "stdout",
     "output_type": "stream",
     "text": [
      "URL: https://www.scmp.com/infographic/ - Element Text: Are gates to hell open? What 2 degrees warmer means for Earth\n",
      "Error occurred while processing URL: https://example.com/page1\n",
      "Message: \n",
      "Stacktrace:\n",
      "0   chromedriver                        0x000000010d6ebd28 chromedriver + 4795688\n",
      "1   chromedriver                        0x000000010d6e32b3 chromedriver + 4760243\n",
      "2   chromedriver                        0x000000010d2bc88d chromedriver + 407693\n",
      "3   chromedriver                        0x000000010d30b3d9 chromedriver + 730073\n",
      "4   chromedriver                        0x000000010d30b591 chromedriver + 730513\n",
      "5   chromedriver                        0x000000010d3517e4 chromedriver + 1017828\n",
      "6   chromedriver                        0x000000010d332ccd chromedriver + 892109\n",
      "7   chromedriver                        0x000000010d34eb2b chromedriver + 1006379\n",
      "8   chromedriver                        0x000000010d332a73 chromedriver + 891507\n",
      "9   chromedriver                        0x000000010d2fd143 chromedriver + 672067\n",
      "10  chromedriver                        0x000000010d2fe31e chromedriver + 676638\n",
      "11  chromedriver                        0x000000010d6ac795 chromedriver + 4536213\n",
      "12  chromedriver                        0x000000010d6b1853 chromedriver + 4556883\n",
      "13  chromedriver                        0x000000010d692001 chromedriver + 4427777\n",
      "14  chromedriver                        0x000000010d6b259d chromedriver + 4560285\n",
      "15  chromedriver                        0x000000010d68348c chromedriver + 4367500\n",
      "16  chromedriver                        0x000000010d6d20e8 chromedriver + 4690152\n",
      "17  chromedriver                        0x000000010d6d229e chromedriver + 4690590\n",
      "18  chromedriver                        0x000000010d6e2eee chromedriver + 4759278\n",
      "19  libsystem_pthread.dylib             0x00007ff800b604e1 _pthread_start + 125\n",
      "20  libsystem_pthread.dylib             0x00007ff800b5bf6b thread_start + 15\n",
      "\n",
      "Error occurred while processing URL: https://example.com/page2\n",
      "Message: \n",
      "Stacktrace:\n",
      "0   chromedriver                        0x000000010d6ebd28 chromedriver + 4795688\n",
      "1   chromedriver                        0x000000010d6e32b3 chromedriver + 4760243\n",
      "2   chromedriver                        0x000000010d2bc88d chromedriver + 407693\n",
      "3   chromedriver                        0x000000010d30b3d9 chromedriver + 730073\n",
      "4   chromedriver                        0x000000010d30b591 chromedriver + 730513\n",
      "5   chromedriver                        0x000000010d3517e4 chromedriver + 1017828\n",
      "6   chromedriver                        0x000000010d332ccd chromedriver + 892109\n",
      "7   chromedriver                        0x000000010d34eb2b chromedriver + 1006379\n",
      "8   chromedriver                        0x000000010d332a73 chromedriver + 891507\n",
      "9   chromedriver                        0x000000010d2fd143 chromedriver + 672067\n",
      "10  chromedriver                        0x000000010d2fe31e chromedriver + 676638\n",
      "11  chromedriver                        0x000000010d6ac795 chromedriver + 4536213\n",
      "12  chromedriver                        0x000000010d6b1853 chromedriver + 4556883\n",
      "13  chromedriver                        0x000000010d692001 chromedriver + 4427777\n",
      "14  chromedriver                        0x000000010d6b259d chromedriver + 4560285\n",
      "15  chromedriver                        0x000000010d68348c chromedriver + 4367500\n",
      "16  chromedriver                        0x000000010d6d20e8 chromedriver + 4690152\n",
      "17  chromedriver                        0x000000010d6d229e chromedriver + 4690590\n",
      "18  chromedriver                        0x000000010d6e2eee chromedriver + 4759278\n",
      "19  libsystem_pthread.dylib             0x00007ff800b604e1 _pthread_start + 125\n",
      "20  libsystem_pthread.dylib             0x00007ff800b5bf6b thread_start + 15\n",
      "\n"
     ]
    }
   ],
   "source": [
    "from selenium import webdriver\n",
    "from selenium.webdriver.common.by import By\n",
    "from selenium.webdriver.support.ui import WebDriverWait\n",
    "from selenium.webdriver.support import expected_conditions as EC\n",
    "\n",
    "# 処理するURLのリスト\n",
    "urls = [\n",
    "    \"https://www.scmp.com/infographic/\",\n",
    "    \"https://example.com/page1\",\n",
    "    \"https://example.com/page2\",\n",
    "    # 他のURLをここに追加\n",
    "]\n",
    "\n",
    "# Chromeドライバのインスタンスを作成\n",
    "driver = webdriver.Chrome()\n",
    "\n",
    "# 各URLに対して処理を実行\n",
    "for url in urls:\n",
    "    try:\n",
    "        driver.get(url)\n",
    "\n",
    "        # WebDriverWaitを使って最大10秒間待機\n",
    "        element = WebDriverWait(driver, 10).until(\n",
    "            EC.presence_of_element_located((By.CSS_SELECTOR, \"#latest0 > a > h1\"))\n",
    "        )\n",
    "        print(f\"URL: {url} - Element Text: {element.text}\")\n",
    "    except Exception as e:\n",
    "        print(f\"Error occurred while processing URL: {url}\")\n",
    "        print(e)\n",
    "\n",
    "# 全ての処理が終わった後、ドライバを終了\n",
    "driver.quit()"
   ]
  }
 ],
 "metadata": {
  "kernelspec": {
   "display_name": "Python 3 (ipykernel)",
   "language": "python",
   "name": "python3"
  },
  "language_info": {
   "codemirror_mode": {
    "name": "ipython",
    "version": 3
   },
   "file_extension": ".py",
   "mimetype": "text/x-python",
   "name": "python",
   "nbconvert_exporter": "python",
   "pygments_lexer": "ipython3",
   "version": "3.9.13"
  }
 },
 "nbformat": 4,
 "nbformat_minor": 5
}
