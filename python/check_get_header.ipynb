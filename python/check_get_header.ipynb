{
 "cells": [
  {
   "cell_type": "code",
   "execution_count": 8,
   "id": "22d8bb29",
   "metadata": {},
   "outputs": [
    {
     "name": "stdout",
     "output_type": "stream",
     "text": [
      "訪日客で潤う百貨店阪急、VIP待遇で免税売上高トップ\n"
     ]
    }
   ],
   "source": [
    "test_url = \"https://www.nikkei.com/\"\n",
    "test_selector = \"body > div.body_bgvwx9q > div.container_clyllbs > main > div:nth-child(1) > div > div:nth-child(1) > div:nth-child(1) > div > div > article > div.textContainer_t1v5liye.overlayStyleOfTextContainer_o1ezlocp.leftAlignedTextContainer_lgmry3u > h2\"\n",
    "\n",
    "import json\n",
    "import pytz\n",
    "from send_file import send_file\n",
    "from datetime import datetime\n",
    "from selenium import webdriver\n",
    "from selenium.webdriver.common.by import By\n",
    "from selenium.webdriver.support.ui import WebDriverWait\n",
    "from selenium.webdriver.support import expected_conditions as EC\n",
    "from selenium.webdriver.chrome.options import Options\n",
    "\n",
    "# Chromeオプションを設定\n",
    "chrome_options = Options()\n",
    "chrome_options.add_argument(\"--headless\")  # ヘッドレスモードを有効にする\n",
    "\n",
    "# Chromeドライバのインスタンスを作成\n",
    "driver = webdriver.Chrome(options=chrome_options)\n",
    "\n",
    "try:\n",
    "    driver.get(test_url)\n",
    "\n",
    "    # WebDriverWaitを使って最大10秒間待機\n",
    "    element = WebDriverWait(driver, 10).until(\n",
    "        EC.presence_of_element_located((By.CSS_SELECTOR, test_selector))\n",
    "    )\n",
    "\n",
    "    print(element.text)\n",
    "\n",
    "except Exception as e:\n",
    "    print(f\"Error occurred while processing URL: {test_url}\")\n",
    "#     print(e)\n",
    "\n",
    "# 全ての処理が終わった後、ドライバを終了\n",
    "driver.quit()"
   ]
  }
 ],
 "metadata": {
  "kernelspec": {
   "display_name": "Python 3 (ipykernel)",
   "language": "python",
   "name": "python3"
  },
  "language_info": {
   "codemirror_mode": {
    "name": "ipython",
    "version": 3
   },
   "file_extension": ".py",
   "mimetype": "text/x-python",
   "name": "python",
   "nbconvert_exporter": "python",
   "pygments_lexer": "ipython3",
   "version": "3.9.7"
  }
 },
 "nbformat": 4,
 "nbformat_minor": 5
}
