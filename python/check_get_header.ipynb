{
 "cells": [
  {
   "cell_type": "code",
   "execution_count": 1,
   "id": "22d8bb29",
   "metadata": {},
   "outputs": [
    {
     "name": "stdout",
     "output_type": "stream",
     "text": [
      "日銀総裁、金融緩和の出口「なお見極め」時期言及せず\n"
     ]
    }
   ],
   "source": [
    "test_url = \"https://www.nikkei.com/\"\n",
    "test_selector = \"body > div.body_bgvwx9q > div.container_clyllbs > main > div:nth-child(1) > div > div:nth-child(1) > div:nth-child(1) > div > div > article > div.textContainer_t1v5liye.overlayStyleOfTextContainer_o1ezlocp.leftAlignedTextContainer_lgmry3u > h2\"\n",
    "\n",
    "import json\n",
    "import pytz\n",
    "from send_file import send_file\n",
    "from datetime import datetime\n",
    "from selenium import webdriver\n",
    "from selenium.webdriver.common.by import By\n",
    "from selenium.webdriver.support.ui import WebDriverWait\n",
    "from selenium.webdriver.support import expected_conditions as EC\n",
    "from selenium.webdriver.chrome.options import Options\n",
    "\n",
    "# Chromeオプションを設定\n",
    "chrome_options = Options()\n",
    "chrome_options.add_argument(\"--headless\")  # ヘッドレスモードを有効にする\n",
    "\n",
    "# Chromeドライバのインスタンスを作成\n",
    "driver = webdriver.Chrome(options=chrome_options)\n",
    "\n",
    "try:\n",
    "    driver.get(test_url)\n",
    "\n",
    "    # WebDriverWaitを使って最大10秒間待機\n",
    "    element = WebDriverWait(driver, 10).until(\n",
    "        EC.presence_of_element_located((By.CSS_SELECTOR, test_selector))\n",
    "    )\n",
    "\n",
    "    print(element.text)\n",
    "\n",
    "except Exception as e:\n",
    "    print(f\"Error occurred while processing URL: {test_url}\")\n",
    "#     print(e)\n",
    "\n",
    "# 全ての処理が終わった後、ドライバを終了\n",
    "driver.quit()"
   ]
  },
  {
   "cell_type": "code",
   "execution_count": 8,
   "id": "9eb629f1",
   "metadata": {},
   "outputs": [],
   "source": [
    "def get_headers(type):\n",
    "    with open(f\"get_headers_raspi_{type}.json\", \"r\") as file:\n",
    "        json_file = json.load(file)\n",
    "\n",
    "    # Chromeオプションを設定\n",
    "    chrome_options = Options()\n",
    "    chrome_options.add_argument(\"--headless\")  # ヘッドレスモードを有効にする\n",
    "\n",
    "    # Chromeドライバのインスタンスを作成\n",
    "    driver = webdriver.Chrome(options=chrome_options)\n",
    "\n",
    "    for item in json_file:\n",
    "        print(item[\"head\"])\n",
    "\n",
    "        try:\n",
    "            driver.get(item[\"url\"])\n",
    "\n",
    "            # WebDriverWaitを使って最大10秒間待機\n",
    "            element = WebDriverWait(driver, 10).until(\n",
    "                EC.presence_of_element_located((By.CSS_SELECTOR, item[\"selector\"]))\n",
    "            )\n",
    "\n",
    "            print(element.text)\n",
    "\n",
    "        except Exception as e:\n",
    "            print(f\"Error occurred while processing URL: {test_url}\")\n",
    "        #     print(e)\n",
    "\n",
    "    # 全ての処理が終わった後、ドライバを終了\n",
    "    driver.quit()"
   ]
  },
  {
   "cell_type": "code",
   "execution_count": 9,
   "id": "f2dbe861",
   "metadata": {},
   "outputs": [
    {
     "name": "stdout",
     "output_type": "stream",
     "text": [
      "Malika Khurana\n",
      "“We sleep fearing we might be dead”\n",
      "Scott Reinhard\n",
      "Ghosts on the Glacier\n",
      "Zach Levitt\n",
      "Eighty percent of Gazans have already left their homes. Here’s what that looks like.\n",
      "Elena Shao\n",
      "Freed Palestinians Were Mostly Young and Not Convicted of Crimes\n",
      "Jeremy White\n",
      "“We sleep fearing we might be dead”\n",
      "Kaliz Lee\n",
      "What life on Earth could look like for us if temperatures rise by 2 degrees\n",
      "Rocio Marquez\n",
      "Israel-Gaza war explainer: a visual analysis\n",
      "Marcelo Duhalde\n",
      "Explore the links between Xi Jinping, China’s Communist Party’s inner circles\n",
      "Aaron Steckelberg\n",
      "Ink regret can be painful. Just ask the girl with the Kanye tattoo.\n",
      "Szu Yu Chen\n",
      "U.S. more isolated on Israel as Gaza crisis deepens, need for aid grows\n"
     ]
    }
   ],
   "source": [
    "get_headers(\"reporters\")"
   ]
  }
 ],
 "metadata": {
  "kernelspec": {
   "display_name": "Python 3 (ipykernel)",
   "language": "python",
   "name": "python3"
  },
  "language_info": {
   "codemirror_mode": {
    "name": "ipython",
    "version": 3
   },
   "file_extension": ".py",
   "mimetype": "text/x-python",
   "name": "python",
   "nbconvert_exporter": "python",
   "pygments_lexer": "ipython3",
   "version": "3.9.7"
  }
 },
 "nbformat": 4,
 "nbformat_minor": 5
}
